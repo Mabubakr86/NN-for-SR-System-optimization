{
 "cells": [
  {
   "cell_type": "code",
   "execution_count": 1,
   "metadata": {},
   "outputs": [
    {
     "name": "stderr",
     "output_type": "stream",
     "text": [
      "Using TensorFlow backend.\n"
     ]
    }
   ],
   "source": [
    "# import libraries:\n",
    "import tensorflow as tf\n",
    "from tensorflow import keras\n",
    "from keras.models import Sequential\n",
    "from keras.layers import Activation\n",
    "from keras.layers.core import Dense\n",
    "from keras.optimizers import SGD, adam\n",
    "from keras.models import load_model\n",
    "from sklearn.model_selection import GridSearchCV\n",
    "from keras.wrappers.scikit_learn import KerasRegressor\n",
    "import numpy as np \n",
    "import pandas as pd\n",
    "import matplotlib.pyplot as plt\n",
    "import seaborn as sns\n",
    "import warnings\n",
    "import os\n",
    "import time \n",
    "import random\n",
    "from sklearn.preprocessing import MinMaxScaler\n",
    "from sklearn.model_selection import train_test_split\n",
    "from IPython.display import Image\n",
    "os.chdir(r'C:\\\\Users\\\\hp\\\\Desktop\\\\conda codes\\\\Data')\n",
    "warnings.filterwarnings('ignore')\n"
   ]
  },
  {
   "cell_type": "markdown",
   "metadata": {},
   "source": [
    "# Artificial Neural Network:"
   ]
  },
  {
   "cell_type": "markdown",
   "metadata": {},
   "source": [
    "#### An artificial neural network is an interconnected group of nodes, inspired by a simplification of neurons in a brain.\n",
    "#### Here, each circular node represents an artificial neuron and an arrow represents a connection from the output of one \n",
    "#### artificial neuron to the input of another."
   ]
  },
  {
   "cell_type": "code",
   "execution_count": 2,
   "metadata": {},
   "outputs": [
    {
     "data": {
      "image/png": "[encoded data removed]",
      "text/plain": [
       "<IPython.core.display.Image object>"
      ]
     },
     "execution_count": 2,
     "metadata": {},
     "output_type": "execute_result"
    }
   ],
   "source": [
    "# Architecture of NN:\n",
    "Image(filename='NNN.png')"
   ]
  },
  {
   "cell_type": "markdown",
   "metadata": {},
   "source": [
    "## Data Prepartion and Split:"
   ]
  },
  {
   "cell_type": "code",
   "execution_count": 3,
   "metadata": {},
   "outputs": [],
   "source": [
    "# Load DataSet: \n",
    "df=pd.read_excel('output.xlsx', index=False)   # output of preprocessed data"
   ]
  },
  {
   "cell_type": "code",
   "execution_count": 4,
   "metadata": {},
   "outputs": [
    {
     "name": "stdout",
     "output_type": "stream",
     "text": [
      "<class 'pandas.core.frame.DataFrame'>\n",
      "RangeIndex: 3579 entries, 0 to 3578\n",
      "Data columns (total 15 columns):\n",
      "Unnamed: 0        3579 non-null int64\n",
      "P.Dia (in)        3579 non-null float64\n",
      "SL (in)           3579 non-null int64\n",
      "SPM (spm)         3579 non-null float64\n",
      "B.Weight (lbf)    3579 non-null float64\n",
      "Fillage (%)       3579 non-null float64\n",
      "PD (ft)           3579 non-null int64\n",
      "PIP (psi)         3579 non-null float64\n",
      "PPMPL (lb)        3579 non-null int64\n",
      "MPMPL (lb)        3579 non-null int64\n",
      "Friction (lb)     3579 non-null float64\n",
      "PRHP              3579 non-null float64\n",
      "Fillage_low       3579 non-null int64\n",
      "Fillage_medium    3579 non-null int64\n",
      "Fillage_high      3579 non-null int64\n",
      "dtypes: float64(7), int64(8)\n",
      "memory usage: 419.5 KB\n"
     ]
    }
   ],
   "source": [
    "df.info()"
   ]
  },
  {
   "cell_type": "code",
   "execution_count": 5,
   "metadata": {},
   "outputs": [
    {
     "data": {
      "text/html": [
       "<div>\n",
       "<style scoped>\n",
       "    .dataframe tbody tr th:only-of-type {\n",
       "        vertical-align: middle;\n",
       "    }\n",
       "\n",
       "    .dataframe tbody tr th {\n",
       "        vertical-align: top;\n",
       "    }\n",
       "\n",
       "    .dataframe thead th {\n",
       "        text-align: right;\n",
       "    }\n",
       "</style>\n",
       "<table border=\"1\" class=\"dataframe\">\n",
       "  <thead>\n",
       "    <tr style=\"text-align: right;\">\n",
       "      <th></th>\n",
       "      <th>P.Dia (in)</th>\n",
       "      <th>SL (in)</th>\n",
       "      <th>SPM (spm)</th>\n",
       "      <th>B.Weight (lbf)</th>\n",
       "      <th>PIP (psi)</th>\n",
       "      <th>PPMPL (lb)</th>\n",
       "      <th>Friction (lb)</th>\n",
       "      <th>PRHP</th>\n",
       "      <th>Fillage_low</th>\n",
       "      <th>Fillage_medium</th>\n",
       "      <th>Fillage_high</th>\n",
       "    </tr>\n",
       "  </thead>\n",
       "  <tbody>\n",
       "    <tr>\n",
       "      <th>0</th>\n",
       "      <td>2.25</td>\n",
       "      <td>112</td>\n",
       "      <td>6.7</td>\n",
       "      <td>4885.0</td>\n",
       "      <td>494.00000</td>\n",
       "      <td>1550</td>\n",
       "      <td>174.0</td>\n",
       "      <td>3.6</td>\n",
       "      <td>0</td>\n",
       "      <td>0</td>\n",
       "      <td>1</td>\n",
       "    </tr>\n",
       "    <tr>\n",
       "      <th>1</th>\n",
       "      <td>2.25</td>\n",
       "      <td>112</td>\n",
       "      <td>6.7</td>\n",
       "      <td>4885.0</td>\n",
       "      <td>527.00000</td>\n",
       "      <td>1864</td>\n",
       "      <td>36.0</td>\n",
       "      <td>3.7</td>\n",
       "      <td>0</td>\n",
       "      <td>0</td>\n",
       "      <td>1</td>\n",
       "    </tr>\n",
       "    <tr>\n",
       "      <th>2</th>\n",
       "      <td>2.25</td>\n",
       "      <td>112</td>\n",
       "      <td>6.7</td>\n",
       "      <td>4885.0</td>\n",
       "      <td>505.00000</td>\n",
       "      <td>1793</td>\n",
       "      <td>81.0</td>\n",
       "      <td>2.5</td>\n",
       "      <td>0</td>\n",
       "      <td>0</td>\n",
       "      <td>1</td>\n",
       "    </tr>\n",
       "    <tr>\n",
       "      <th>3</th>\n",
       "      <td>2.25</td>\n",
       "      <td>128</td>\n",
       "      <td>8.2</td>\n",
       "      <td>3257.0</td>\n",
       "      <td>445.20227</td>\n",
       "      <td>2072</td>\n",
       "      <td>159.0</td>\n",
       "      <td>5.6</td>\n",
       "      <td>0</td>\n",
       "      <td>0</td>\n",
       "      <td>1</td>\n",
       "    </tr>\n",
       "    <tr>\n",
       "      <th>4</th>\n",
       "      <td>2.25</td>\n",
       "      <td>128</td>\n",
       "      <td>8.2</td>\n",
       "      <td>3257.0</td>\n",
       "      <td>160.00000</td>\n",
       "      <td>2485</td>\n",
       "      <td>524.0</td>\n",
       "      <td>7.3</td>\n",
       "      <td>0</td>\n",
       "      <td>0</td>\n",
       "      <td>1</td>\n",
       "    </tr>\n",
       "  </tbody>\n",
       "</table>\n",
       "</div>"
      ],
      "text/plain": [
       "   P.Dia (in)  SL (in)  SPM (spm)  B.Weight (lbf)  PIP (psi)  PPMPL (lb)  \\\n",
       "0        2.25      112        6.7          4885.0  494.00000        1550   \n",
       "1        2.25      112        6.7          4885.0  527.00000        1864   \n",
       "2        2.25      112        6.7          4885.0  505.00000        1793   \n",
       "3        2.25      128        8.2          3257.0  445.20227        2072   \n",
       "4        2.25      128        8.2          3257.0  160.00000        2485   \n",
       "\n",
       "   Friction (lb)  PRHP  Fillage_low  Fillage_medium  Fillage_high  \n",
       "0          174.0   3.6            0               0             1  \n",
       "1           36.0   3.7            0               0             1  \n",
       "2           81.0   2.5            0               0             1  \n",
       "3          159.0   5.6            0               0             1  \n",
       "4          524.0   7.3            0               0             1  "
      ]
     },
     "execution_count": 5,
     "metadata": {},
     "output_type": "execute_result"
    }
   ],
   "source": [
    "# Drop unrequired columns & explore data:\n",
    "df = df.drop(['Unnamed: 0','Fillage (%)','PD (ft)','MPMPL (lb)'], axis=1)\n",
    "df.head()"
   ]
  },
  {
   "cell_type": "code",
   "execution_count": 6,
   "metadata": {},
   "outputs": [],
   "source": [
    "## TO scale data, will use scaling or standarization features for numerical columns & one hot coding for categorial ones:\n",
    "## Scaling option:\n",
    "\n",
    "# num_df=df.drop(['Fillage_low','Fillage_medium','Fillage_high','PRHP'], axis=1)\n",
    "# num_values = num_df.values #returns a numpy array to be processed by MinMAx Scaler\n",
    "# scaler_x=MinMaxScaler(feature_range=(0,1))\n",
    "# scaler_x.fit(num_values)\n",
    "# num_values_scaled=scaler_x.transform(num_values)\n",
    "# num_df_scaled = pd.DataFrame(num_values_scaled, columns=['P.Dia (in)', 'SL (in)', 'SPM (spm)', 'B.Weight (lbf)', 'PIP (psi)',\n",
    "#        'PPMPL (lb)', 'Friction (lb)'])\n",
    "# num_df_scaled.head()\n",
    "\n",
    "# cat_df_encoded=df[['Fillage_low','Fillage_medium','Fillage_high']]    # one hot coding already applied \n",
    "\n",
    "# label_df=df['PRHP']\n",
    "# scaler_y=MinMaxScaler(feature_range=(0,1))\n",
    "# scaler_y.fit(label_df.values.reshape(-1,1))\n",
    "# prhp_values_scaled=scaler_y.transform(label_df.values.reshape(-1,1))\n",
    "# label_df=pd.DataFrame(prhp_values_scaled, columns=['PRHP'])\n",
    "\n",
    "# # label_df=df['PRHP']/df['PRHP'].max()                                  # Scale or not ?????\n",
    "\n",
    "\n",
    "# df=pd.concat([num_df_scaled,cat_df_encoded, label_df], axis=1)\n",
    "# df.head()\n"
   ]
  },
  {
   "cell_type": "code",
   "execution_count": 7,
   "metadata": {},
   "outputs": [
    {
     "data": {
      "text/html": [
       "<div>\n",
       "<style scoped>\n",
       "    .dataframe tbody tr th:only-of-type {\n",
       "        vertical-align: middle;\n",
       "    }\n",
       "\n",
       "    .dataframe tbody tr th {\n",
       "        vertical-align: top;\n",
       "    }\n",
       "\n",
       "    .dataframe thead th {\n",
       "        text-align: right;\n",
       "    }\n",
       "</style>\n",
       "<table border=\"1\" class=\"dataframe\">\n",
       "  <thead>\n",
       "    <tr style=\"text-align: right;\">\n",
       "      <th></th>\n",
       "      <th>P.Dia (in)</th>\n",
       "      <th>SL (in)</th>\n",
       "      <th>SPM (spm)</th>\n",
       "      <th>B.Weight (lbf)</th>\n",
       "      <th>PIP (psi)</th>\n",
       "      <th>PPMPL (lb)</th>\n",
       "      <th>Friction (lb)</th>\n",
       "      <th>Fillage_low</th>\n",
       "      <th>Fillage_medium</th>\n",
       "      <th>Fillage_high</th>\n",
       "      <th>PRHP</th>\n",
       "    </tr>\n",
       "  </thead>\n",
       "  <tbody>\n",
       "    <tr>\n",
       "      <th>0</th>\n",
       "      <td>0.8081</td>\n",
       "      <td>-0.177321</td>\n",
       "      <td>-0.187455</td>\n",
       "      <td>-1.520043</td>\n",
       "      <td>0.296125</td>\n",
       "      <td>-1.458739</td>\n",
       "      <td>-0.946448</td>\n",
       "      <td>0</td>\n",
       "      <td>0</td>\n",
       "      <td>1</td>\n",
       "      <td>3.6</td>\n",
       "    </tr>\n",
       "    <tr>\n",
       "      <th>1</th>\n",
       "      <td>0.8081</td>\n",
       "      <td>-0.177321</td>\n",
       "      <td>-0.187455</td>\n",
       "      <td>-1.520043</td>\n",
       "      <td>0.415134</td>\n",
       "      <td>-1.343796</td>\n",
       "      <td>-1.041267</td>\n",
       "      <td>0</td>\n",
       "      <td>0</td>\n",
       "      <td>1</td>\n",
       "      <td>3.7</td>\n",
       "    </tr>\n",
       "    <tr>\n",
       "      <th>2</th>\n",
       "      <td>0.8081</td>\n",
       "      <td>-0.177321</td>\n",
       "      <td>-0.187455</td>\n",
       "      <td>-1.520043</td>\n",
       "      <td>0.335795</td>\n",
       "      <td>-1.369786</td>\n",
       "      <td>-1.010348</td>\n",
       "      <td>0</td>\n",
       "      <td>0</td>\n",
       "      <td>1</td>\n",
       "      <td>2.5</td>\n",
       "    </tr>\n",
       "    <tr>\n",
       "      <th>3</th>\n",
       "      <td>0.8081</td>\n",
       "      <td>0.251556</td>\n",
       "      <td>0.832875</td>\n",
       "      <td>-1.972893</td>\n",
       "      <td>0.120145</td>\n",
       "      <td>-1.267656</td>\n",
       "      <td>-0.956755</td>\n",
       "      <td>0</td>\n",
       "      <td>0</td>\n",
       "      <td>1</td>\n",
       "      <td>5.6</td>\n",
       "    </tr>\n",
       "    <tr>\n",
       "      <th>4</th>\n",
       "      <td>0.8081</td>\n",
       "      <td>0.251556</td>\n",
       "      <td>0.832875</td>\n",
       "      <td>-1.972893</td>\n",
       "      <td>-0.908387</td>\n",
       "      <td>-1.116473</td>\n",
       "      <td>-0.705967</td>\n",
       "      <td>0</td>\n",
       "      <td>0</td>\n",
       "      <td>1</td>\n",
       "      <td>7.3</td>\n",
       "    </tr>\n",
       "  </tbody>\n",
       "</table>\n",
       "</div>"
      ],
      "text/plain": [
       "   P.Dia (in)   SL (in)  SPM (spm)  B.Weight (lbf)  PIP (psi)  PPMPL (lb)  \\\n",
       "0      0.8081 -0.177321  -0.187455       -1.520043   0.296125   -1.458739   \n",
       "1      0.8081 -0.177321  -0.187455       -1.520043   0.415134   -1.343796   \n",
       "2      0.8081 -0.177321  -0.187455       -1.520043   0.335795   -1.369786   \n",
       "3      0.8081  0.251556   0.832875       -1.972893   0.120145   -1.267656   \n",
       "4      0.8081  0.251556   0.832875       -1.972893  -0.908387   -1.116473   \n",
       "\n",
       "   Friction (lb)  Fillage_low  Fillage_medium  Fillage_high  PRHP  \n",
       "0      -0.946448            0               0             1   3.6  \n",
       "1      -1.041267            0               0             1   3.7  \n",
       "2      -1.010348            0               0             1   2.5  \n",
       "3      -0.956755            0               0             1   5.6  \n",
       "4      -0.705967            0               0             1   7.3  "
      ]
     },
     "execution_count": 7,
     "metadata": {},
     "output_type": "execute_result"
    }
   ],
   "source": [
    "# Normalization option:\n",
    "num_df=df.drop(['Fillage_low','Fillage_medium','Fillage_high','PRHP'], axis=1)      \n",
    "num_df_norm=(num_df-num_df.mean())/(num_df.std())                              # Tensorflow tutourials \n",
    "# num_df_norm=(num_df-num_df.mean())/(num_df.std()+1e-7)                       # Stackoverflow reply\n",
    "\n",
    "\n",
    "cat_df_encoded=df[['Fillage_low','Fillage_medium','Fillage_high']]             # one hot coding already applied \n",
    "\n",
    "label_df=df['PRHP']\n",
    "# label_df=df['PRHP']/df['PRHP'].max()                                        # Scale or not ?????\n",
    "df=pd.concat([num_df_norm,cat_df_encoded, label_df], axis=1)\n",
    "df.head()"
   ]
  },
  {
   "cell_type": "code",
   "execution_count": 8,
   "metadata": {},
   "outputs": [
    {
     "data": {
      "image/png": "[encoded data removed]",
      "text/plain": [
       "<IPython.core.display.Image object>"
      ]
     },
     "execution_count": 8,
     "metadata": {},
     "output_type": "execute_result"
    }
   ],
   "source": [
    "# Spliting data to train & test Concept :\n",
    "Image('train_test_detail.png')"
   ]
  },
  {
   "cell_type": "code",
   "execution_count": 9,
   "metadata": {},
   "outputs": [
    {
     "name": "stdout",
     "output_type": "stream",
     "text": [
      "Data divided as following :3042 points for training and 537 points for testing\n"
     ]
    }
   ],
   "source": [
    "# Spliting data to train & test :\n",
    "(train_data, test_data) = train_test_split(df, test_size=0.15, random_state=42)\n",
    "print('Data divided as following :{} points for training and {} points for testing'.format(len(train_data), len(test_data)))"
   ]
  },
  {
   "cell_type": "code",
   "execution_count": 10,
   "metadata": {},
   "outputs": [
    {
     "name": "stdout",
     "output_type": "stream",
     "text": [
      "Data separated into 10 inputs and 1 output\n"
     ]
    }
   ],
   "source": [
    "# Split data into features & labels:\n",
    "train_data_features=train_data.drop('PRHP', axis=1)\n",
    "train_data_labels=train_data['PRHP']\n",
    "train_data_labels=pd.DataFrame(train_data_labels,  columns=['PRHP'])\n",
    "test_data_features=test_data.drop('PRHP', axis=1)\n",
    "test_data_labels=test_data['PRHP']\n",
    "# test_data_labels=pd.DataFrame(train_data_labels,  columns=['PRHP'])\n",
    "print('Data separated into {} inputs and {} output'.format(train_data_features.shape[1],train_data_labels.shape[1]))"
   ]
  },
  {
   "cell_type": "code",
   "execution_count": 11,
   "metadata": {},
   "outputs": [],
   "source": [
    "# Forcing same random inputs for reproducibility of model:\n",
    "os.environ['PYTHONHASHEED']='0'\n",
    "np.random.seed(37)\n",
    "random.seed(1254)\n",
    "tf.set_random_seed(89)\n",
    "# sess=tf.Session(graph=tf.get_default_graph(),config='session_conf')     # cause error\n",
    "# k.set_session(sess)"
   ]
  },
  {
   "cell_type": "markdown",
   "metadata": {},
   "source": [
    "## Model Development and Performance:"
   ]
  },
  {
   "cell_type": "code",
   "execution_count": 12,
   "metadata": {},
   "outputs": [
    {
     "name": "stdout",
     "output_type": "stream",
     "text": [
      "WARNING:tensorflow:From C:\\Users\\hp\\Anaconda3\\envs\\ANNMODEL\\lib\\site-packages\\tensorflow\\python\\framework\\op_def_library.py:263: colocate_with (from tensorflow.python.framework.ops) is deprecated and will be removed in a future version.\n",
      "Instructions for updating:\n",
      "Colocations handled automatically by placer.\n",
      "_________________________________________________________________\n",
      "Layer (type)                 Output Shape              Param #   \n",
      "=================================================================\n",
      "dense_1 (Dense)              (None, 9)                 99        \n",
      "_________________________________________________________________\n",
      "dense_2 (Dense)              (None, 3)                 30        \n",
      "_________________________________________________________________\n",
      "dense_3 (Dense)              (None, 1)                 4         \n",
      "=================================================================\n",
      "Total params: 133\n",
      "Trainable params: 133\n",
      "Non-trainable params: 0\n",
      "_________________________________________________________________\n"
     ]
    }
   ],
   "source": [
    "# Build Model:\n",
    "model=Sequential()\n",
    "model.add(Dense(9,input_shape=(train_data_features.shape[1],), activation='relu'))\n",
    "model.add(Dense(3, activation='relu'))\n",
    "model.add(Dense(1))\n",
    "model.summary()"
   ]
  },
  {
   "cell_type": "code",
   "execution_count": 13,
   "metadata": {},
   "outputs": [
    {
     "name": "stdout",
     "output_type": "stream",
     "text": [
      "WARNING:tensorflow:From C:\\Users\\hp\\Anaconda3\\envs\\ANNMODEL\\lib\\site-packages\\tensorflow\\python\\ops\\math_ops.py:3066: to_int32 (from tensorflow.python.ops.math_ops) is deprecated and will be removed in a future version.\n",
      "Instructions for updating:\n",
      "Use tf.cast instead.\n",
      "Completed training the model.....\n",
      "Training time : 25.21 Seconds\n"
     ]
    }
   ],
   "source": [
    "# train Model:\n",
    "start= time.time()\n",
    "model.compile(optimizer=adam(lr=1e-3),loss='mean_squared_error', metrics=['mean_absolute_error'])\n",
    "history = model.fit(train_data_features,train_data_labels,validation_split=0.2,batch_size=10,epochs=100,verbose=0,shuffle=True)\n",
    "end= time.time()\n",
    "print('Completed training the model.....')\n",
    "print('Training time :', round((end-start),2), 'Seconds')"
   ]
  },
  {
   "cell_type": "code",
   "execution_count": 14,
   "metadata": {},
   "outputs": [
    {
     "data": {
      "text/html": [
       "<div>\n",
       "<style scoped>\n",
       "    .dataframe tbody tr th:only-of-type {\n",
       "        vertical-align: middle;\n",
       "    }\n",
       "\n",
       "    .dataframe tbody tr th {\n",
       "        vertical-align: top;\n",
       "    }\n",
       "\n",
       "    .dataframe thead th {\n",
       "        text-align: right;\n",
       "    }\n",
       "</style>\n",
       "<table border=\"1\" class=\"dataframe\">\n",
       "  <thead>\n",
       "    <tr style=\"text-align: right;\">\n",
       "      <th></th>\n",
       "      <th>val_loss</th>\n",
       "      <th>val_mean_absolute_error</th>\n",
       "      <th>loss</th>\n",
       "      <th>mean_absolute_error</th>\n",
       "      <th>epoch</th>\n",
       "    </tr>\n",
       "  </thead>\n",
       "  <tbody>\n",
       "    <tr>\n",
       "      <th>0</th>\n",
       "      <td>166.349358</td>\n",
       "      <td>10.173714</td>\n",
       "      <td>205.891869</td>\n",
       "      <td>11.572301</td>\n",
       "      <td>0</td>\n",
       "    </tr>\n",
       "    <tr>\n",
       "      <th>1</th>\n",
       "      <td>49.047411</td>\n",
       "      <td>5.001500</td>\n",
       "      <td>114.684807</td>\n",
       "      <td>8.092193</td>\n",
       "      <td>1</td>\n",
       "    </tr>\n",
       "    <tr>\n",
       "      <th>2</th>\n",
       "      <td>17.343447</td>\n",
       "      <td>2.700172</td>\n",
       "      <td>26.410262</td>\n",
       "      <td>3.575243</td>\n",
       "      <td>2</td>\n",
       "    </tr>\n",
       "    <tr>\n",
       "      <th>3</th>\n",
       "      <td>11.964707</td>\n",
       "      <td>2.065626</td>\n",
       "      <td>12.521779</td>\n",
       "      <td>2.329527</td>\n",
       "      <td>3</td>\n",
       "    </tr>\n",
       "    <tr>\n",
       "      <th>4</th>\n",
       "      <td>10.864938</td>\n",
       "      <td>1.909736</td>\n",
       "      <td>9.867615</td>\n",
       "      <td>2.007360</td>\n",
       "      <td>4</td>\n",
       "    </tr>\n",
       "  </tbody>\n",
       "</table>\n",
       "</div>"
      ],
      "text/plain": [
       "     val_loss  val_mean_absolute_error        loss  mean_absolute_error  epoch\n",
       "0  166.349358                10.173714  205.891869            11.572301      0\n",
       "1   49.047411                 5.001500  114.684807             8.092193      1\n",
       "2   17.343447                 2.700172   26.410262             3.575243      2\n",
       "3   11.964707                 2.065626   12.521779             2.329527      3\n",
       "4   10.864938                 1.909736    9.867615             2.007360      4"
      ]
     },
     "execution_count": 14,
     "metadata": {},
     "output_type": "execute_result"
    }
   ],
   "source": [
    "# model performance: \n",
    "hist = pd.DataFrame(history.history)\n",
    "hist['epoch'] = history.epoch\n",
    "hist.head()"
   ]
  },
  {
   "cell_type": "code",
   "execution_count": 15,
   "metadata": {},
   "outputs": [
    {
     "data": {
      "image/png": "[encoded data removed]",
      "text/plain": [
       "<Figure size 432x288 with 1 Axes>"
      ]
     },
     "metadata": {
      "needs_background": "light"
     },
     "output_type": "display_data"
    }
   ],
   "source": [
    "def plot_history(history):\n",
    "  plt.figure()\n",
    "  plt.xlabel('Epoch')\n",
    "  plt.ylabel('Mean Abs Error ')\n",
    "  plt.plot(hist['epoch'], hist['mean_absolute_error'],\n",
    "           label='Train Error')\n",
    "  plt.plot(hist['epoch'], hist['val_mean_absolute_error'],\n",
    "           label = 'Val_loss')\n",
    "  plt.legend()\n",
    "  plt.show()\n",
    "\n",
    "plot_history(history)"
   ]
  },
  {
   "cell_type": "code",
   "execution_count": 16,
   "metadata": {},
   "outputs": [],
   "source": [
    "## Stop training if no improvement in validation loss:\n",
    "# early_stop = keras.callbacks.EarlyStopping(monitor='val_loss', patience=20)\n",
    "# history= model.fit(train_data_features,train_data_labels,validation_split=0.1,\n",
    "#                    batch_size=10,epochs=100,verbose=2,shuffle=True, callbacks=[early_stop])\n"
   ]
  },
  {
   "cell_type": "code",
   "execution_count": 17,
   "metadata": {},
   "outputs": [
    {
     "data": {
      "image/png": "[encoded data removed]",
      "text/plain": [
       "<Figure size 432x288 with 1 Axes>"
      ]
     },
     "metadata": {
      "needs_background": "light"
     },
     "output_type": "display_data"
    }
   ],
   "source": [
    "# Using Model for predictions:\n",
    "predictions= model.predict(test_data_features, batch_size=10)\n",
    "\n",
    "# Comparing with actual labels:\n",
    "plt.scatter(test_data_labels, predictions, color='orange')\n",
    "plt.xlabel('True PRHP')\n",
    "plt.ylabel('Predicted PRHP')\n",
    "plt.axis('equal')\n",
    "plt.axis('square')\n",
    "plt.xlim([0,plt.xlim()[1]])\n",
    "plt.ylim([0,plt.ylim()[1]])\n",
    "_ = plt.plot([-100, 100], [-100, 100], color='red')"
   ]
  },
  {
   "cell_type": "code",
   "execution_count": 18,
   "metadata": {},
   "outputs": [
    {
     "data": {
      "text/plain": [
       "<matplotlib.axes._subplots.AxesSubplot at 0x1ed9547ef28>"
      ]
     },
     "execution_count": 18,
     "metadata": {},
     "output_type": "execute_result"
    },
    {
     "data": {
      "image/png": "[encoded data removed]",
      "text/plain": [
       "<Figure size 432x288 with 1 Axes>"
      ]
     },
     "metadata": {
      "needs_background": "light"
     },
     "output_type": "display_data"
    }
   ],
   "source": [
    "# Distribution of Error check:\n",
    "test_data_labels=pd.DataFrame(test_data_labels)\n",
    "error = predictions - test_data_labels\n",
    "plt.xlabel(\"Prediction Error [HP]\")\n",
    "plt.ylabel(\"Count\")\n",
    "sns.distplot(error)"
   ]
  },
  {
   "cell_type": "code",
   "execution_count": 19,
   "metadata": {},
   "outputs": [
    {
     "data": {
      "text/plain": [
       "<matplotlib.axes._subplots.AxesSubplot at 0x1ed9554bc88>"
      ]
     },
     "execution_count": 19,
     "metadata": {},
     "output_type": "execute_result"
    },
    {
     "data": {
      "image/png": "[encoded data removed]",
      "text/plain": [
       "<Figure size 432x288 with 1 Axes>"
      ]
     },
     "metadata": {
      "needs_background": "light"
     },
     "output_type": "display_data"
    }
   ],
   "source": [
    "sns.boxplot(error)"
   ]
  },
  {
   "cell_type": "code",
   "execution_count": 20,
   "metadata": {},
   "outputs": [
    {
     "name": "stdout",
     "output_type": "stream",
     "text": [
      "Mean perc_error = 1.09,and Std deviation of perc_error = 0.84\n"
     ]
    }
   ],
   "source": [
    "# compute the mean and standard deviation of the absolute percentage error:\n",
    "error_perc = (predictions / test_data_labels) \n",
    "abs_error_perc = np.abs(error_perc)\n",
    "\n",
    "mean_error = np.mean(abs_error_perc)\n",
    "std_error= np.std(abs_error_perc)\n",
    "\n",
    " # require more check from pyimage example\n",
    " \n",
    "print ('Mean perc_error = {},and Std deviation of perc_error = {}'.format(mean_error[0].round(2),std_error[0].round(2))) "
   ]
  },
  {
   "cell_type": "code",
   "execution_count": 21,
   "metadata": {},
   "outputs": [],
   "source": [
    "# Save Model & Recall model:\n",
    "# model.save('Initial_model.h5')"
   ]
  },
  {
   "cell_type": "code",
   "execution_count": 22,
   "metadata": {},
   "outputs": [],
   "source": [
    "# Prediction on new data: "
   ]
  },
  {
   "cell_type": "markdown",
   "metadata": {},
   "source": [
    "## Tuning Hyperparameters of Model :"
   ]
  },
  {
   "cell_type": "code",
   "execution_count": 23,
   "metadata": {},
   "outputs": [],
   "source": [
    "# Run ANN Model (Hyper-parameters selections), Get best parameters and check new model performance :\n",
    "######### Need Figur to show hyper parameters"
   ]
  },
  {
   "cell_type": "code",
   "execution_count": null,
   "metadata": {},
   "outputs": [],
   "source": []
  }
 ],
 "metadata": {
  "kernelspec": {
   "display_name": "Python [conda env:ANNMODEL] *",
   "language": "python",
   "name": "conda-env-ANNMODEL-py"
  },
  "language_info": {
   "codemirror_mode": {
    "name": "ipython",
    "version": 3
   },
   "file_extension": ".py",
   "mimetype": "text/x-python",
   "name": "python",
   "nbconvert_exporter": "python",
   "pygments_lexer": "ipython3",
   "version": "3.7.3"
  }
 },
 "nbformat": 4,
 "nbformat_minor": 2
}
